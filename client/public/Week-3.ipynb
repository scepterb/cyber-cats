{
 "cells": [
  {
   "cell_type": "markdown",
   "metadata": {},
   "source": [
    "# Week 3: Python Data Types and Variables"
   ]
  },
  {
   "cell_type": "markdown",
   "metadata": {},
   "source": [
    "### Python Math\n",
    "Let's start with some basics: run the following cells to see what they output\n",
    "\n",
    "Note: a full list of operators supported in python can be found [here](https://www.tutorialspoint.com/python/python_basic_operators.htm)"
   ]
  },
  {
   "cell_type": "code",
   "execution_count": 1,
   "metadata": {},
   "outputs": [
    {
     "data": {
      "text/plain": [
       "3"
      ]
     },
     "execution_count": 1,
     "metadata": {},
     "output_type": "execute_result"
    }
   ],
   "source": [
    "2 + 1"
   ]
  },
  {
   "cell_type": "code",
   "execution_count": 2,
   "metadata": {},
   "outputs": [
    {
     "data": {
      "text/plain": [
       "11"
      ]
     },
     "execution_count": 2,
     "metadata": {},
     "output_type": "execute_result"
    }
   ],
   "source": [
    "36 - (4 + 1)**2"
   ]
  },
  {
   "cell_type": "markdown",
   "metadata": {},
   "source": [
    "The outputs so far are all **integers** because they are round, whole numbers. \n",
    "\n",
    "What happens when run the previous cell with a decimal?"
   ]
  },
  {
   "cell_type": "code",
   "execution_count": 3,
   "metadata": {},
   "outputs": [
    {
     "data": {
      "text/plain": [
       "11.0"
      ]
     },
     "execution_count": 3,
     "metadata": {},
     "output_type": "execute_result"
    }
   ],
   "source": [
    "36 - (4.0 + 1)**2"
   ]
  },
  {
   "cell_type": "markdown",
   "metadata": {},
   "source": [
    "We get the same answer numerically, but instead of an integer the resulting data type is called a **float**. \n",
    "\n",
    "This is the Pythonic name for a decimal value."
   ]
  },
  {
   "cell_type": "markdown",
   "metadata": {},
   "source": [
    "### Creating a Variable in Python\n"
   ]
  },
  {
   "cell_type": "code",
   "execution_count": 4,
   "metadata": {},
   "outputs": [],
   "source": [
    "a = 1"
   ]
  },
  {
   "cell_type": "code",
   "execution_count": 5,
   "metadata": {},
   "outputs": [
    {
     "name": "stdout",
     "output_type": "stream",
     "text": [
      "1\n"
     ]
    }
   ],
   "source": [
    "print(a)"
   ]
  },
  {
   "cell_type": "code",
   "execution_count": 6,
   "metadata": {},
   "outputs": [
    {
     "data": {
      "text/plain": [
       "2"
      ]
     },
     "execution_count": 6,
     "metadata": {},
     "output_type": "execute_result"
    }
   ],
   "source": [
    "a + 1"
   ]
  },
  {
   "cell_type": "markdown",
   "metadata": {},
   "source": [
    "Note that `a = 1` still."
   ]
  },
  {
   "cell_type": "code",
   "execution_count": 7,
   "metadata": {},
   "outputs": [
    {
     "name": "stdout",
     "output_type": "stream",
     "text": [
      "1\n"
     ]
    }
   ],
   "source": [
    "print(a)"
   ]
  },
  {
   "cell_type": "markdown",
   "metadata": {},
   "source": [
    "What happens to `a` when we assign `a = a + 2`?"
   ]
  },
  {
   "cell_type": "code",
   "execution_count": 8,
   "metadata": {},
   "outputs": [
    {
     "name": "stdout",
     "output_type": "stream",
     "text": [
      "3\n"
     ]
    }
   ],
   "source": [
    "a = a + 2\n",
    "print(a)"
   ]
  },
  {
   "cell_type": "markdown",
   "metadata": {},
   "source": [
    "Now we have overwritten the previous value of a with a new value!"
   ]
  },
  {
   "cell_type": "markdown",
   "metadata": {},
   "source": [
    "#### Beware: Python is case sensitive"
   ]
  },
  {
   "cell_type": "code",
   "execution_count": 9,
   "metadata": {},
   "outputs": [
    {
     "name": "stdout",
     "output_type": "stream",
     "text": [
      "20 10\n"
     ]
    }
   ],
   "source": [
    "N = 20\n",
    "n = 10\n",
    "print(N, n)"
   ]
  },
  {
   "cell_type": "markdown",
   "metadata": {},
   "source": [
    "#### Best practice: \n",
    "- Make your variable names descriptive! This will be very important later as our scripts get more complex\n",
    "- Python convention is that variables are lower case and long variable names are separated by underscore (for example: `my_variable_name`)"
   ]
  },
  {
   "cell_type": "markdown",
   "metadata": {},
   "source": [
    "### Data Types in Python\n",
    "\n",
    "- **Numeric types:** integer, float\n",
    "- **Text:** string\n",
    "- **Collection of values:** list, array, tuple, dictionary\n",
    "- **Logical:** boolean (pronounced boo-lee-uhn)"
   ]
  },
  {
   "cell_type": "code",
   "execution_count": null,
   "metadata": {},
   "outputs": [],
   "source": [
    "list_of_ones = [int(\"1\"), 1.0,  1, \"1.0\", (\"first\", 1), {\"one\": 1}, bool(1)]"
   ]
  },
  {
   "cell_type": "markdown",
   "metadata": {},
   "source": [
    "Try to guess the output types before running the cell below:"
   ]
  },
  {
   "cell_type": "code",
   "execution_count": 11,
   "metadata": {},
   "outputs": [
    {
     "name": "stdout",
     "output_type": "stream",
     "text": [
      "<class 'int'>\n",
      "<class 'float'>\n",
      "<class 'int'>\n",
      "<class 'str'>\n",
      "<class 'tuple'>\n",
      "<class 'dict'>\n",
      "<class 'bool'>\n"
     ]
    }
   ],
   "source": [
    "for value in list_of_ones:\n",
    "    print(type(value))"
   ]
  },
  {
   "cell_type": "markdown",
   "metadata": {},
   "source": [
    "## Part 2: Indexing Variables\n",
    "\n",
    "Lists are defined with square brackets and delineated by commas. \n",
    "\n",
    "They are distinct from another data type called **tuples** which are denoted by ( ) and are immutable (meaning they cannot be changed) once created. \n",
    " \n",
    "Let's learn how to index lists (and variables in general):"
   ]
  },
  {
   "cell_type": "code",
   "execution_count": 12,
   "metadata": {},
   "outputs": [],
   "source": [
    "squares_list = [1, 4, 9, 16, 25, 36, 49, 64, 81, 100]"
   ]
  },
  {
   "cell_type": "markdown",
   "metadata": {},
   "source": [
    "To access the list, we'll put brackets after the variable name. Let's try to get the first element in the list:"
   ]
  },
  {
   "cell_type": "code",
   "execution_count": 13,
   "metadata": {},
   "outputs": [
    {
     "data": {
      "text/plain": [
       "4"
      ]
     },
     "execution_count": 13,
     "metadata": {},
     "output_type": "execute_result"
    }
   ],
   "source": [
    "squares_list[1]"
   ]
  },
  {
   "cell_type": "markdown",
   "metadata": {},
   "source": [
    "This is probably not what you were expecting. This is because in Python, the index starts at 0. So if we try this:"
   ]
  },
  {
   "cell_type": "code",
   "execution_count": 14,
   "metadata": {},
   "outputs": [
    {
     "data": {
      "text/plain": [
       "1"
      ]
     },
     "execution_count": 14,
     "metadata": {},
     "output_type": "execute_result"
    }
   ],
   "source": [
    "squares_list[0]"
   ]
  },
  {
   "cell_type": "markdown",
   "metadata": {},
   "source": [
    "We'll get the \"0th\" element of the list. Now that we know this, we can get any element we like. Try to guess what this will output:"
   ]
  },
  {
   "cell_type": "code",
   "execution_count": 15,
   "metadata": {},
   "outputs": [
    {
     "data": {
      "text/plain": [
       "25"
      ]
     },
     "execution_count": 15,
     "metadata": {},
     "output_type": "execute_result"
    }
   ],
   "source": [
    "squares_list[4]"
   ]
  },
  {
   "cell_type": "markdown",
   "metadata": {},
   "source": [
    "If we put in a number that's too large, Python will throw this error message:"
   ]
  },
  {
   "cell_type": "code",
   "execution_count": 16,
   "metadata": {},
   "outputs": [
    {
     "ename": "IndexError",
     "evalue": "list index out of range",
     "output_type": "error",
     "traceback": [
      "\u001b[0;31m---------------------------------------------------------------------------\u001b[0m",
      "\u001b[0;31mIndexError\u001b[0m                                Traceback (most recent call last)",
      "Cell \u001b[0;32mIn[16], line 1\u001b[0m\n\u001b[0;32m----> 1\u001b[0m squares_list[\u001b[38;5;241m10\u001b[39m]\n",
      "\u001b[0;31mIndexError\u001b[0m: list index out of range"
     ]
    }
   ],
   "source": [
    "squares_list[10]"
   ]
  },
  {
   "cell_type": "markdown",
   "metadata": {},
   "source": [
    "Now that we know how to access any element, let's try some more advanced stuff. To count from the back of the list, you can put negative numbers in the brackets:"
   ]
  },
  {
   "cell_type": "code",
   "execution_count": null,
   "metadata": {},
   "outputs": [],
   "source": [
    "print(squares_list[-1])\n",
    "print(squares_list[-3])"
   ]
  },
  {
   "cell_type": "markdown",
   "metadata": {},
   "source": [
    "We can also access slices of the list. If we type a number, a colon, and then a second number, Python will make a list from between the two numbers:"
   ]
  },
  {
   "cell_type": "code",
   "execution_count": null,
   "metadata": {},
   "outputs": [],
   "source": [
    "squares_list[1:4]\n",
    "#Note that this includes index one but doesn't include index four"
   ]
  },
  {
   "cell_type": "markdown",
   "metadata": {},
   "source": [
    "Lastly, we can change the 'step' of the slice. If we use a second colon, the number after it will give the 'step length':"
   ]
  },
  {
   "cell_type": "code",
   "execution_count": null,
   "metadata": {},
   "outputs": [],
   "source": [
    "squares_list[1:10:2]"
   ]
  },
  {
   "cell_type": "markdown",
   "metadata": {},
   "source": [
    "You can even use indexing to reverse a list!"
   ]
  },
  {
   "cell_type": "code",
   "execution_count": null,
   "metadata": {},
   "outputs": [],
   "source": [
    "squares_list[::-1]"
   ]
  },
  {
   "cell_type": "markdown",
   "metadata": {},
   "source": [
    "Great! Now we know how to index a list."
   ]
  },
  {
   "cell_type": "markdown",
   "metadata": {},
   "source": [
    "While they share similarities in indexing syntax, there are two key differences between strings and lists that we'll discuss in this module: \n",
    "\n",
    "1. Strings can only have characters––letters, numbers, and punctuation––whereas lists can have any data type\n",
    "2. Python provides built-in **functions** that let you modify lists and strings.\n",
    "\n",
    "For now, we'll start by discussing strings and tuples.\n",
    "\n",
    "**Note**: strings and tuples are indexed exactly the same as lists."
   ]
  },
  {
   "cell_type": "code",
   "execution_count": null,
   "metadata": {},
   "outputs": [],
   "source": [
    "my_string = \"I love Python!\"\n",
    "my_tuple = (\"I\", \" \", \"love\", \" \", \"Python\", \"!\")"
   ]
  },
  {
   "cell_type": "markdown",
   "metadata": {},
   "source": [
    "Tuples are immutable, meaning they cannot be modified once created."
   ]
  },
  {
   "cell_type": "code",
   "execution_count": null,
   "metadata": {},
   "outputs": [],
   "source": [
    "# The following code produces an error\n",
    "my_tuple[0] = \"me\""
   ]
  },
  {
   "cell_type": "markdown",
   "metadata": {},
   "source": [
    "Another thing to note: the following lines of code produce different variable types"
   ]
  },
  {
   "cell_type": "code",
   "execution_count": null,
   "metadata": {},
   "outputs": [],
   "source": [
    "test_int = (1)\n",
    "test_tuple = (1, )\n",
    "test_list = [1]\n",
    "for test in [test_int, test_tuple, test_list]:\n",
    "    print(type(test))"
   ]
  },
  {
   "cell_type": "markdown",
   "metadata": {},
   "source": [
    "Back to indexing! "
   ]
  },
  {
   "cell_type": "code",
   "execution_count": null,
   "metadata": {},
   "outputs": [],
   "source": [
    "# Index the elements at indices 0-5\n",
    "print(my_string[0:6])\n",
    "\n",
    "# Store the value at index 4 as a variable called python\n",
    "python_string = my_tuple[4]\n",
    "print(python_string)\n",
    "\n",
    "# The following two lines of code are equivalent\n",
    "print(python_string[0]) \n",
    "print(my_tuple[4][0])"
   ]
  },
  {
   "cell_type": "markdown",
   "metadata": {},
   "source": [
    "In the first example, we sliced the 0th through the 5th index.\n",
    "\n",
    "In the second example, we assigned a variable called `python_string` to the 5th element of the tuple. When we print it, we see that it is the 5th element as expected. Since `python_string` is a string, it can be indexed again, and we can access the 0th element.\n",
    "\n",
    "Lastly, notice the bit of syntax in which two sets of brackets are placed. This is an efficient way to access something within a list or a tuple. "
   ]
  },
  {
   "cell_type": "markdown",
   "metadata": {},
   "source": [
    "## Part 3: Using Built-Ins\n",
    "Create a variable called my_name and set it to be your name as a string:"
   ]
  },
  {
   "cell_type": "code",
   "execution_count": null,
   "metadata": {},
   "outputs": [],
   "source": [
    "my_name = \"<YOUR NAME HERE>\""
   ]
  },
  {
   "cell_type": "markdown",
   "metadata": {},
   "source": [
    "We can combine strings together to make a full sentence:"
   ]
  },
  {
   "cell_type": "code",
   "execution_count": null,
   "metadata": {},
   "outputs": [],
   "source": [
    "greeting = \"hello world!\"\n",
    "print(greeting + \" My name is \" + my_name)"
   ]
  },
  {
   "cell_type": "markdown",
   "metadata": {},
   "source": [
    "Notice that the sentence we printed isn't capitalized correctly. Luckily, Python  has a built-in function that can help us!  \n",
    "To call the `capitalize()` function built into the Python string, put a dot after the string variable name:"
   ]
  },
  {
   "cell_type": "code",
   "execution_count": null,
   "metadata": {},
   "outputs": [],
   "source": [
    "# Use the built-in method to capitalize the greeting\n",
    "greeting = greeting.capitalize()\n",
    "print(greeting + \" My name is \" + my_name)"
   ]
  },
  {
   "cell_type": "markdown",
   "metadata": {},
   "source": [
    "##### Question: What do the following methods do to our string?"
   ]
  },
  {
   "cell_type": "code",
   "execution_count": null,
   "metadata": {},
   "outputs": [],
   "source": [
    "print(greeting.upper(), greeting.lower(), greeting.replace('ll', 'y'))"
   ]
  },
  {
   "cell_type": "markdown",
   "metadata": {},
   "source": [
    "##### Answer:\n",
    "**YOUR ANSWER HERE**"
   ]
  },
  {
   "cell_type": "markdown",
   "metadata": {},
   "source": [
    "Let's check out two more built-in functions to drive the point home: `split()` and `join()`.\n",
    "- `split(char)`: returns a list of strings, fragments of the original string without the given `char`\n",
    "- `join(split_string)`: inserts a string into a given list of strings, `split_string`"
   ]
  },
  {
   "cell_type": "code",
   "execution_count": null,
   "metadata": {},
   "outputs": [],
   "source": [
    "split_greeting = greeting.split('o')\n",
    "print(\"split string: \", split_greeting, \"\\ntype: \", type(split_greeting))"
   ]
  },
  {
   "cell_type": "code",
   "execution_count": null,
   "metadata": {},
   "outputs": [],
   "source": [
    "joined_greeting = 'o'.join(split_greeting)\n",
    "print(\"joined string: \", joined_greeting, \"\\ntype: \", type(joined_greeting))"
   ]
  },
  {
   "cell_type": "markdown",
   "metadata": {},
   "source": [
    "If you ever forget what a built-in function does, hovering over the function with your cursor will let you view the Python documentation for that function."
   ]
  },
  {
   "cell_type": "markdown",
   "metadata": {},
   "source": [
    "## Part 4: Hex and Binary"
   ]
  },
  {
   "cell_type": "markdown",
   "metadata": {},
   "source": [
    "Python does not have a built-in \"bytes\" data type like it does with integers and floats. You instead store binary data in a **bytes object**. We'll learn more about objects later, but just know that objects are created (aka *instantiated*) using a constructor.\n",
    "\n",
    "Below, we encode the string 'hello' using ASCII encoding:  \n",
    "(If you didn't learn ASCII encoding, this is a way of representing text using bytes)"
   ]
  },
  {
   "cell_type": "code",
   "execution_count": 1,
   "metadata": {},
   "outputs": [],
   "source": [
    "byte_str = bytes('hello', 'ascii')"
   ]
  },
  {
   "cell_type": "markdown",
   "metadata": {},
   "source": [
    " The output below should be a **list** of the ASCII values for 'hello'."
   ]
  },
  {
   "cell_type": "code",
   "execution_count": 2,
   "metadata": {},
   "outputs": [
    {
     "data": {
      "text/plain": [
       "[104, 101, 108, 108, 111]"
      ]
     },
     "execution_count": 2,
     "metadata": {},
     "output_type": "execute_result"
    }
   ],
   "source": [
    "list(byte_str)"
   ]
  },
  {
   "cell_type": "markdown",
   "metadata": {},
   "source": [
    "We can use indexing to access individual bytes. We can use slicing to access a certain sequence of bytes.\n",
    "   \n",
    "(If you didn't know: ASCII 'h' = 0x68 = 104)"
   ]
  },
  {
   "cell_type": "code",
   "execution_count": 4,
   "metadata": {},
   "outputs": [
    {
     "name": "stdout",
     "output_type": "stream",
     "text": [
      "104\n",
      "b'ell'\n"
     ]
    }
   ],
   "source": [
    "print(byte_str[0])\n",
    "\n",
    "print(byte_str[1:4])"
   ]
  },
  {
   "cell_type": "markdown",
   "metadata": {},
   "source": [
    "In the prior output, you might have noticed the `b''`. This is another way of declaring bytes:"
   ]
  },
  {
   "cell_type": "code",
   "execution_count": 5,
   "metadata": {},
   "outputs": [
    {
     "name": "stdout",
     "output_type": "stream",
     "text": [
      "b'my byte string'\n",
      "b'my byte string'\n"
     ]
    }
   ],
   "source": [
    "print(b'my byte string')\n",
    "\n",
    "print(bytes('my byte string', 'ascii'))"
   ]
  },
  {
   "cell_type": "markdown",
   "metadata": {},
   "source": [
    "Finally, we often want to represent or work with bytes that are not just ASCII text. In order to declare raw bytes in our bytes object, we use the hex value of the byte and the escape sequence `\\x`.  \n",
    "\n",
    "For example, a byte string containing a single byte of 0xFF would look like this:"
   ]
  },
  {
   "cell_type": "code",
   "execution_count": null,
   "metadata": {},
   "outputs": [
    {
     "name": "stdout",
     "output_type": "stream",
     "text": [
      "b'\\xff'\n",
      "ff\n"
     ]
    }
   ],
   "source": [
    "my_byte = b'\\xff'\n",
    "\n",
    "print(my_byte)\n",
    "print(my_byte.hex())"
   ]
  },
  {
   "cell_type": "markdown",
   "metadata": {},
   "source": [
    "##### Question: Get the first 5 bytes from `gibberish_bytes`, and append to the beginning of the string."
   ]
  },
  {
   "cell_type": "code",
   "execution_count": null,
   "metadata": {},
   "outputs": [
    {
     "name": "stdout",
     "output_type": "stream",
     "text": [
      "Good work!\n"
     ]
    }
   ],
   "source": [
    "gibberish_bytes = b'\\x47\\x6fod\\x20M\\x37ilovepython'\n",
    "my_string = \"work!\"\n",
    "\n",
    "five_bytes = ???\n",
    "\n",
    "new_string = ???.decode('ascii') + my_string\n",
    "print(new_string)"
   ]
  },
  {
   "cell_type": "markdown",
   "metadata": {},
   "source": [
    "### Decoding and Encoding Bytes\n",
    "Notice how we use the `.decode()` function built into the `bytes` object to convert from raw bytes to ASCII text. Python includes multiple built-ins to convert between bytes and other data types, such as text and integers.\n",
    "\n",
    "To convert between text and bytes, use `encode()` and `decode()`."
   ]
  },
  {
   "cell_type": "code",
   "execution_count": null,
   "metadata": {},
   "outputs": [
    {
     "name": "stdout",
     "output_type": "stream",
     "text": [
      "b'Ben'\n",
      "Ben\n"
     ]
    }
   ],
   "source": [
    "name_string = \"Ben\"\n",
    "\n",
    "name_bytes = name_string.encode('ascii')\n",
    "print(name_bytes)\n",
    "\n",
    "new_name_string = name_bytes.decode('ascii')\n",
    "print(new_name_string)"
   ]
  },
  {
   "cell_type": "markdown",
   "metadata": {},
   "source": [
    "You can format your bytes output as hex using `.hex()`"
   ]
  },
  {
   "cell_type": "code",
   "execution_count": 14,
   "metadata": {},
   "outputs": [
    {
     "name": "stdout",
     "output_type": "stream",
     "text": [
      "42656e\n"
     ]
    }
   ],
   "source": [
    "print(name_bytes.hex())"
   ]
  },
  {
   "cell_type": "markdown",
   "metadata": {},
   "source": [
    "Use `to_bytes` and `from_bytes` to convert between bytes and integers:\n",
    "- `num.to_bytes(n, endianness)` converts the `num` integer to a bytes object with a length of `n` bytes. \n",
    "- `int.from_bytes(bytes, endianness)` converts the  `bytes` object to an integer."
   ]
  },
  {
   "cell_type": "code",
   "execution_count": 15,
   "metadata": {},
   "outputs": [
    {
     "name": "stdout",
     "output_type": "stream",
     "text": [
      "b'\\x04\\x01'\n"
     ]
    }
   ],
   "source": [
    "num = 1025\n",
    "bytes = num.to_bytes(2, \"big\")\n",
    "print(bytes)"
   ]
  },
  {
   "cell_type": "code",
   "execution_count": 16,
   "metadata": {},
   "outputs": [
    {
     "name": "stdout",
     "output_type": "stream",
     "text": [
      "1025\n"
     ]
    }
   ],
   "source": [
    "num_recovered = int.from_bytes(bytes, \"big\")\n",
    "print(num_recovered)"
   ]
  },
  {
   "cell_type": "markdown",
   "metadata": {},
   "source": [
    "`\"big\"` means big-endian (byte order is not reversed). For this week's lab, you might have to specify `\"little\"` instead if the byte data is in little-endian."
   ]
  },
  {
   "cell_type": "markdown",
   "metadata": {},
   "source": [
    "## That's All! Time for a Challenge..."
   ]
  },
  {
   "cell_type": "markdown",
   "metadata": {},
   "source": [
    "If you're not a coward, you'll try your newly-acquired Python skills with this week's Python Lab.  \n",
    "\n",
    "You have intercepted the internet traffic of a foreign adversary. We would like to know the exact details of their internet activity. You will receive the bytestring of one of their IPv4 packets. The packet is structured like so:\n",
    "\n",
    "| Bit start .. bit end | Data | Type |\n",
    "| :------------------- | :--: | ---: |\n",
    "| 0..7  | Version  | Byte |\n",
    "| 8..15 | TOS  | Byte  |\n",
    "| 16..31| Total Length | Short (2 bytes) |\n",
    "| 32..63 | Source Address | Int (4 bytes) |\n",
    "| 64..96 | Destination Address | Int (4 bytes) |\n",
    "| 97..352 | Data | (32 bytes) |\n",
    "\n",
    "Each of these data fields, except for data, are in little-endian.\n",
    "\n",
    "Download the template python script with `wget https://cyber.wildcats.cc/Week-3-Challenge.py`. Find the Version, TOS, Total Length, Source Address, and Destination Address. \n",
    "\n",
    "Once you do this, we will verify your answers. Download the verification script with `wget https://cyber.wildcats.cc/week-3-server`. Run the script by typing `./week-3-server` into your terminal, and input your answers.\n",
    "\n",
    "Good luck, we're all counting on you.\n",
    "\n"
   ]
  }
 ],
 "metadata": {
  "kernelspec": {
   "display_name": "base",
   "language": "python",
   "name": "python3"
  },
  "language_info": {
   "codemirror_mode": {
    "name": "ipython",
    "version": 3
   },
   "file_extension": ".py",
   "mimetype": "text/x-python",
   "name": "python",
   "nbconvert_exporter": "python",
   "pygments_lexer": "ipython3",
   "version": "3.12.7"
  }
 },
 "nbformat": 4,
 "nbformat_minor": 2
}
